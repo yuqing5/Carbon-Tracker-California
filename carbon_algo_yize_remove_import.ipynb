{
 "cells": [
  {
   "cell_type": "code",
   "execution_count": 1,
   "metadata": {},
   "outputs": [],
   "source": [
    "import pandas as pd\n",
    "import scipy.io\n",
    "import numpy as np\n",
    "from pyvis.network import Network\n",
    "import matplotlib.pyplot as plt\n",
    "import collections\n",
    "import json\n",
    "import matlab.engine\n",
    "from sklearn.linear_model import LinearRegression\n",
    "import utils"
   ]
  },
  {
   "cell_type": "code",
   "execution_count": 2,
   "metadata": {},
   "outputs": [],
   "source": [
    "num_bus, num_branch, num_gen, df = utils.modify_CATS(change_solar=True, rescale_imports=False, remove_imports=True)"
   ]
  },
  {
   "cell_type": "code",
   "execution_count": 3,
   "metadata": {},
   "outputs": [],
   "source": [
    "'''\n",
    "Dictionary to store fuel type to emission rate.\n",
    "'''\n",
    "type_to_emission = collections.defaultdict(float)\n",
    "#type_to_emission['Conventional Hydroelectric'] = 0\n",
    "#type_to_emission['Hydroelectric Pumped Storage'] = 0\n",
    "type_to_emission['Petroleum Liquids'] = 0.656\n",
    "type_to_emission['Natural Gas Internal Combustion Engine'] = 0.44\n",
    "type_to_emission['Natural Gas Fired Combined Cycle'] = 0.44\n",
    "type_to_emission['Natural Gas Steam Turbine'] = 0.44\n",
    "type_to_emission['Natural Gas Fired Combustion Turbine'] = 0.44\n",
    "type_to_emission['Nuclear'] = 0\n",
    "type_to_emission['Geothermal'] = 0.038\n",
    "#type_to_emission['Onshore Wind Turbine'] = 0\n",
    "type_to_emission['Other Waste Biomass'] = 0.23\n",
    "type_to_emission['Wood/Wood Waste Biomass'] = 0.23\n",
    "type_to_emission['Landfill Gas'] = 0.11\n",
    "#type_to_emission['Solar Photovoltaic'] = 0\n",
    "#type_to_emission['Solar Thermal without Energy Storage'] = 0\n",
    "type_to_emission['Conventional Steam Coal'] = 0.82\n",
    "type_to_emission['Other Gases'] = 0.776560\n",
    "type_to_emission['Batteries'] = 0\n",
    "type_to_emission['Petroleum Coke'] = 0.656\n",
    "type_to_emission['Municipal Solid Waste'] = 0.029702\n",
    "type_to_emission['Other Natural Gas'] = 0.44\n",
    "type_to_emission['All Other'] = 0.104261\n",
    "type_to_emission['IMPORT'] = 0.43"
   ]
  },
  {
   "cell_type": "code",
   "execution_count": 4,
   "metadata": {},
   "outputs": [],
   "source": [
    "'''\n",
    "Load branch data. Create dictionarys that map branch to bus.\n",
    "'''\n",
    "branch_ = scipy.io.loadmat('MATPOWER/branch.mat')['brach']\n",
    "branch_from_bus = list(map(int, branch_[:, 0]-1))\n",
    "branch_to_bus = list(map(int, branch_[:, 1]-1))\n",
    "line_to_nodes = [list(map(int,i)) for i in branch_[:, 0:2]-1]"
   ]
  },
  {
   "cell_type": "code",
   "execution_count": 5,
   "metadata": {},
   "outputs": [],
   "source": [
    "'''\n",
    "After finding the SCC and store it in c, turn the cycle to a super node and turn graph into DAG.\n",
    "'''\n",
    "def update_graph_DAG(graph, c, branch_power_from, graph_reverse):\n",
    "    for b in c:\n",
    "        for nei, line in graph[b]:\n",
    "            if nei in c:\n",
    "                branch_power_from[line] = 0\n",
    "                graph[b].remove((nei, line))\n",
    "        for nei, line in graph_reverse[b]:\n",
    "            if nei in c:\n",
    "                branch_power_from[line] = 0\n",
    "                if (b, line) in graph[nei]:\n",
    "                    graph[nei].remove((b, line))\n",
    "        if b != c[0]:\n",
    "            for nei, line in graph[b]:\n",
    "                if nei not in c:\n",
    "                    graph[c[0]].append((nei, line))\n",
    "                    graph[b].remove((nei, line))\n",
    "            for nei, line in graph_reverse[b]:\n",
    "                if nei not in c:\n",
    "                    graph[nei].append((c[0], line))\n",
    "                    if (b, line) in graph[nei]:\n",
    "                        graph[nei].remove((b, line))\n",
    "            graph[b] = []\n",
    "    return graph"
   ]
  },
  {
   "cell_type": "code",
   "execution_count": 6,
   "metadata": {},
   "outputs": [],
   "source": [
    "'''\n",
    "Check the total power generation by fuel type.\n",
    "'''\n",
    "gen_by_fuel = collections.defaultdict(float)\n",
    "for row in df:\n",
    "    gen_by_fuel[row[3]] += row[5]"
   ]
  },
  {
   "cell_type": "code",
   "execution_count": 7,
   "metadata": {},
   "outputs": [],
   "source": [
    "'''\n",
    "Match the fuel type in our data to CAISO fuel type.\n",
    "'''\n",
    "fuel_type_to_caiso = collections.defaultdict(str)\n",
    "for k, v in gen_by_fuel.items():\n",
    "    if 'Natural Gas' in k:\n",
    "        fuel_type_to_caiso[k] = 0 #'Natural Gas'\n",
    "    elif 'Other Gases' in k or 'Landfill' in k:\n",
    "        fuel_type_to_caiso[k] = 11 #'Biogas'\n",
    "    elif 'Coal' in k:\n",
    "        fuel_type_to_caiso[k] = 5 #'Coal'\n",
    "    elif 'Biomass' in k or 'Waste' in k:\n",
    "        fuel_type_to_caiso[k] = 10 #'Biomass'\n",
    "    elif 'Geothermal' in k:\n",
    "        fuel_type_to_caiso[k] = 9 #'Geothermal'\n",
    "    elif 'Batteries' in k:\n",
    "        fuel_type_to_caiso[k] = 3\n",
    "    elif 'uclear' in k:\n",
    "        fuel_type_to_caiso[k] = 4\n",
    "    elif 'Solar' in k:\n",
    "        fuel_type_to_caiso[k] = 7\n",
    "    elif 'Wind' in k:\n",
    "        fuel_type_to_caiso[k] = 8\n",
    "    elif 'Hydro' in k:\n",
    "        fuel_type_to_caiso[k] = 1\n",
    "    elif 'IMPORT' in k:\n",
    "        fuel_type_to_caiso[k] = 2\n",
    "    else: #others\n",
    "        fuel_type_to_caiso[k] = 6"
   ]
  },
  {
   "cell_type": "code",
   "execution_count": 8,
   "metadata": {},
   "outputs": [],
   "source": [
    "'''\n",
    "Get the CAISO load total power demand data at different timestamps. real_gen only includes non-renewable while total_dem includes all.\n",
    "'''\n",
    "some_gen = pd.read_csv('data/201906/CAISO-netdemand-20190617.csv').iloc[[5]].to_numpy().reshape((289, ))[1:-1]\n",
    "real_gen = []\n",
    "for i in range(0,288):\n",
    "    if i%12 == 0:\n",
    "        real_gen.append(some_gen[i])\n",
    "some_gen = pd.read_csv('data/201906/CAISO-netdemand-20190617.csv').iloc[[1]].to_numpy().reshape((289, ))[1:-1]\n",
    "total_dem = []\n",
    "for i in range(0,288):\n",
    "    if i%12 == 0:\n",
    "        total_dem.append(some_gen[i])"
   ]
  },
  {
   "cell_type": "code",
   "execution_count": 9,
   "metadata": {},
   "outputs": [
    {
     "name": "stdout",
     "output_type": "stream",
     "text": [
      "\n",
      "******************************************************************************\n",
      "This program contains Ipopt, a library for large-scale nonlinear optimization.\n",
      " Ipopt is released as open source code under the Eclipse Public License (EPL).\n",
      "         For more information visit https://github.com/coin-or/Ipopt\n",
      "******************************************************************************\n",
      "\n"
     ]
    },
    {
     "name": "stderr",
     "output_type": "stream",
     "text": [
      "The latest version of Julia in the `release` channel is 1.11.3+0.x64.w64.mingw32. You currently have `1.10.0+0.x64.w64.mingw32` installed. Run:\n",
      "\n",
      "  juliaup update\n",
      "\n",
      "in your terminal shell to install Julia 1.11.3+0.x64.w64.mingw32 and update the `release` channel to that version.\n"
     ]
    },
    {
     "name": "stdout",
     "output_type": "stream",
     "text": [
      "power demand: 22820.000000735297\n",
      "power gen: 8592.000563624311\n",
      "real gen: 8592\n",
      "\n",
      "******************************************************************************\n",
      "This program contains Ipopt, a library for large-scale nonlinear optimization.\n",
      " Ipopt is released as open source code under the Eclipse Public License (EPL).\n",
      "         For more information visit https://github.com/coin-or/Ipopt\n",
      "******************************************************************************\n",
      "\n"
     ]
    },
    {
     "name": "stderr",
     "output_type": "stream",
     "text": [
      "The latest version of Julia in the `release` channel is 1.11.3+0.x64.w64.mingw32. You currently have `1.10.0+0.x64.w64.mingw32` installed. Run:\n",
      "\n",
      "  juliaup update\n",
      "\n",
      "in your terminal shell to install Julia 1.11.3+0.x64.w64.mingw32 and update the `release` channel to that version.\n"
     ]
    },
    {
     "name": "stdout",
     "output_type": "stream",
     "text": [
      "power demand: 21945.999998062554\n",
      "power gen: 7321.000685022823\n",
      "real gen: 7321\n",
      "\n",
      "******************************************************************************\n",
      "This program contains Ipopt, a library for large-scale nonlinear optimization.\n",
      " Ipopt is released as open source code under the Eclipse Public License (EPL).\n",
      "         For more information visit https://github.com/coin-or/Ipopt\n",
      "******************************************************************************\n",
      "\n"
     ]
    },
    {
     "name": "stderr",
     "output_type": "stream",
     "text": [
      "The latest version of Julia in the `release` channel is 1.11.3+0.x64.w64.mingw32. You currently have `1.10.0+0.x64.w64.mingw32` installed. Run:\n",
      "\n",
      "  juliaup update\n",
      "\n",
      "in your terminal shell to install Julia 1.11.3+0.x64.w64.mingw32 and update the `release` channel to that version.\n"
     ]
    },
    {
     "name": "stdout",
     "output_type": "stream",
     "text": [
      "power demand: 21126.99999974991\n",
      "power gen: 6992.000713721295\n",
      "real gen: 6992\n"
     ]
    },
    {
     "name": "stderr",
     "output_type": "stream",
     "text": [
      "The latest version of Julia in the `release` channel is 1.11.3+0.x64.w64.mingw32. You currently have `1.10.0+0.x64.w64.mingw32` installed. Run:\n",
      "\n",
      "  juliaup update\n",
      "\n",
      "in your terminal shell to install Julia 1.11.3+0.x64.w64.mingw32 and update the `release` channel to that version.\n"
     ]
    },
    {
     "name": "stdout",
     "output_type": "stream",
     "text": [
      "\n",
      "******************************************************************************\n",
      "This program contains Ipopt, a library for large-scale nonlinear optimization.\n",
      " Ipopt is released as open source code under the Eclipse Public License (EPL).\n",
      "         For more information visit https://github.com/coin-or/Ipopt\n",
      "******************************************************************************\n",
      "\n",
      "power demand: 20764.9999975076\n",
      "power gen: 7390.00068329752\n",
      "real gen: 7390\n",
      "\n",
      "******************************************************************************\n",
      "This program contains Ipopt, a library for large-scale nonlinear optimization.\n",
      " Ipopt is released as open source code under the Eclipse Public License (EPL).\n",
      "         For more information visit https://github.com/coin-or/Ipopt\n",
      "******************************************************************************\n",
      "\n"
     ]
    },
    {
     "name": "stderr",
     "output_type": "stream",
     "text": [
      "The latest version of Julia in the `release` channel is 1.11.3+0.x64.w64.mingw32. You currently have `1.10.0+0.x64.w64.mingw32` installed. Run:\n",
      "\n",
      "  juliaup update\n",
      "\n",
      "in your terminal shell to install Julia 1.11.3+0.x64.w64.mingw32 and update the `release` channel to that version.\n"
     ]
    },
    {
     "name": "stdout",
     "output_type": "stream",
     "text": [
      "power demand: 20769.999999655254\n",
      "power gen: 7375.000683917686\n",
      "real gen: 7375\n",
      "\n",
      "******************************************************************************\n",
      "This program contains Ipopt, a library for large-scale nonlinear optimization.\n",
      " Ipopt is released as open source code under the Eclipse Public License (EPL).\n",
      "         For more information visit https://github.com/coin-or/Ipopt\n",
      "******************************************************************************\n",
      "\n"
     ]
    },
    {
     "name": "stderr",
     "output_type": "stream",
     "text": [
      "The latest version of Julia in the `release` channel is 1.11.3+0.x64.w64.mingw32. You currently have `1.10.0+0.x64.w64.mingw32` installed. Run:\n",
      "\n",
      "  juliaup update\n",
      "\n",
      "in your terminal shell to install Julia 1.11.3+0.x64.w64.mingw32 and update the `release` channel to that version.\n"
     ]
    },
    {
     "name": "stdout",
     "output_type": "stream",
     "text": [
      "power demand: 21320.999999885407\n",
      "power gen: 7852.000666432308\n",
      "real gen: 7852\n",
      "\n",
      "******************************************************************************\n",
      "This program contains Ipopt, a library for large-scale nonlinear optimization.\n",
      " Ipopt is released as open source code under the Eclipse Public License (EPL).\n",
      "         For more information visit https://github.com/coin-or/Ipopt\n",
      "******************************************************************************\n",
      "\n"
     ]
    },
    {
     "name": "stderr",
     "output_type": "stream",
     "text": [
      "The latest version of Julia in the `release` channel is 1.11.3+0.x64.w64.mingw32. You currently have `1.10.0+0.x64.w64.mingw32` installed. Run:\n",
      "\n",
      "  juliaup update\n",
      "\n",
      "in your terminal shell to install Julia 1.11.3+0.x64.w64.mingw32 and update the `release` channel to that version.\n"
     ]
    },
    {
     "name": "stdout",
     "output_type": "stream",
     "text": [
      "power demand: 22640.999999871914\n",
      "power gen: 7797.000669805319\n",
      "real gen: 7797\n",
      "\n",
      "******************************************************************************\n",
      "This program contains Ipopt, a library for large-scale nonlinear optimization.\n",
      " Ipopt is released as open source code under the Eclipse Public License (EPL).\n",
      "         For more information visit https://github.com/coin-or/Ipopt\n",
      "******************************************************************************\n",
      "\n"
     ]
    },
    {
     "name": "stderr",
     "output_type": "stream",
     "text": [
      "The latest version of Julia in the `release` channel is 1.11.3+0.x64.w64.mingw32. You currently have `1.10.0+0.x64.w64.mingw32` installed. Run:\n",
      "\n",
      "  juliaup update\n",
      "\n",
      "in your terminal shell to install Julia 1.11.3+0.x64.w64.mingw32 and update the `release` channel to that version.\n"
     ]
    },
    {
     "name": "stdout",
     "output_type": "stream",
     "text": [
      "power demand: 24307.999998625462\n",
      "power gen: 7800.000670298144\n",
      "real gen: 7800\n"
     ]
    },
    {
     "name": "stderr",
     "output_type": "stream",
     "text": [
      "The latest version of Julia in the `release` channel is 1.11.3+0.x64.w64.mingw32. You currently have `1.10.0+0.x64.w64.mingw32` installed. Run:\n",
      "\n",
      "  juliaup update\n",
      "\n",
      "in your terminal shell to install Julia 1.11.3+0.x64.w64.mingw32 and update the `release` channel to that version.\n"
     ]
    },
    {
     "name": "stdout",
     "output_type": "stream",
     "text": [
      "\n",
      "******************************************************************************\n",
      "This program contains Ipopt, a library for large-scale nonlinear optimization.\n",
      " Ipopt is released as open source code under the Eclipse Public License (EPL).\n",
      "         For more information visit https://github.com/coin-or/Ipopt\n",
      "******************************************************************************\n",
      "\n",
      "power demand: 25354.999998104686\n",
      "power gen: 7555.000675639152\n",
      "real gen: 7555\n"
     ]
    },
    {
     "name": "stderr",
     "output_type": "stream",
     "text": [
      "The latest version of Julia in the `release` channel is 1.11.3+0.x64.w64.mingw32. You currently have `1.10.0+0.x64.w64.mingw32` installed. Run:\n",
      "\n",
      "  juliaup update\n",
      "\n",
      "in your terminal shell to install Julia 1.11.3+0.x64.w64.mingw32 and update the `release` channel to that version.\n"
     ]
    },
    {
     "name": "stdout",
     "output_type": "stream",
     "text": [
      "\n",
      "******************************************************************************\n",
      "This program contains Ipopt, a library for large-scale nonlinear optimization.\n",
      " Ipopt is released as open source code under the Eclipse Public License (EPL).\n",
      "         For more information visit https://github.com/coin-or/Ipopt\n",
      "******************************************************************************\n",
      "\n",
      "power demand: 25768.00000283945\n",
      "power gen: 7526.000677430142\n",
      "real gen: 7526\n"
     ]
    },
    {
     "name": "stderr",
     "output_type": "stream",
     "text": [
      "The latest version of Julia in the `release` channel is 1.11.3+0.x64.w64.mingw32. You currently have `1.10.0+0.x64.w64.mingw32` installed. Run:\n",
      "\n",
      "  juliaup update\n",
      "\n",
      "in your terminal shell to install Julia 1.11.3+0.x64.w64.mingw32 and update the `release` channel to that version.\n"
     ]
    },
    {
     "name": "stdout",
     "output_type": "stream",
     "text": [
      "\n",
      "******************************************************************************\n",
      "This program contains Ipopt, a library for large-scale nonlinear optimization.\n",
      " Ipopt is released as open source code under the Eclipse Public License (EPL).\n",
      "         For more information visit https://github.com/coin-or/Ipopt\n",
      "******************************************************************************\n",
      "\n",
      "power demand: 26062.000000495827\n",
      "power gen: 7774.000670976697\n",
      "real gen: 7774\n",
      "\n",
      "******************************************************************************\n",
      "This program contains Ipopt, a library for large-scale nonlinear optimization.\n",
      " Ipopt is released as open source code under the Eclipse Public License (EPL).\n",
      "         For more information visit https://github.com/coin-or/Ipopt\n",
      "******************************************************************************\n",
      "\n"
     ]
    },
    {
     "name": "stderr",
     "output_type": "stream",
     "text": [
      "The latest version of Julia in the `release` channel is 1.11.3+0.x64.w64.mingw32. You currently have `1.10.0+0.x64.w64.mingw32` installed. Run:\n",
      "\n",
      "  juliaup update\n",
      "\n",
      "in your terminal shell to install Julia 1.11.3+0.x64.w64.mingw32 and update the `release` channel to that version.\n"
     ]
    },
    {
     "name": "stdout",
     "output_type": "stream",
     "text": [
      "power demand: 26254.999998381198\n",
      "power gen: 7938.000665227353\n",
      "real gen: 7938\n",
      "\n",
      "******************************************************************************\n",
      "This program contains Ipopt, a library for large-scale nonlinear optimization.\n",
      " Ipopt is released as open source code under the Eclipse Public License (EPL).\n",
      "         For more information visit https://github.com/coin-or/Ipopt\n",
      "******************************************************************************\n",
      "\n"
     ]
    },
    {
     "name": "stderr",
     "output_type": "stream",
     "text": [
      "The latest version of Julia in the `release` channel is 1.11.3+0.x64.w64.mingw32. You currently have `1.10.0+0.x64.w64.mingw32` installed. Run:\n",
      "\n",
      "  juliaup update\n",
      "\n",
      "in your terminal shell to install Julia 1.11.3+0.x64.w64.mingw32 and update the `release` channel to that version.\n"
     ]
    },
    {
     "name": "stdout",
     "output_type": "stream",
     "text": [
      "power demand: 26309.00000015615\n",
      "power gen: 8140.000654832992\n",
      "real gen: 8140\n"
     ]
    },
    {
     "name": "stderr",
     "output_type": "stream",
     "text": [
      "The latest version of Julia in the `release` channel is 1.11.3+0.x64.w64.mingw32. You currently have `1.10.0+0.x64.w64.mingw32` installed. Run:\n",
      "\n",
      "  juliaup update\n",
      "\n",
      "in your terminal shell to install Julia 1.11.3+0.x64.w64.mingw32 and update the `release` channel to that version.\n"
     ]
    },
    {
     "name": "stdout",
     "output_type": "stream",
     "text": [
      "\n",
      "******************************************************************************\n",
      "This program contains Ipopt, a library for large-scale nonlinear optimization.\n",
      " Ipopt is released as open source code under the Eclipse Public License (EPL).\n",
      "         For more information visit https://github.com/coin-or/Ipopt\n",
      "******************************************************************************\n",
      "\n",
      "power demand: 27007.00000055591\n",
      "power gen: 8616.000560425227\n",
      "real gen: 8616\n",
      "\n",
      "******************************************************************************\n",
      "This program contains Ipopt, a library for large-scale nonlinear optimization.\n",
      " Ipopt is released as open source code under the Eclipse Public License (EPL).\n",
      "         For more information visit https://github.com/coin-or/Ipopt\n",
      "******************************************************************************\n",
      "\n"
     ]
    },
    {
     "name": "stderr",
     "output_type": "stream",
     "text": [
      "The latest version of Julia in the `release` channel is 1.11.3+0.x64.w64.mingw32. You currently have `1.10.0+0.x64.w64.mingw32` installed. Run:\n",
      "\n",
      "  juliaup update\n",
      "\n",
      "in your terminal shell to install Julia 1.11.3+0.x64.w64.mingw32 and update the `release` channel to that version.\n"
     ]
    },
    {
     "name": "stdout",
     "output_type": "stream",
     "text": [
      "power demand: 27817.000002176286\n",
      "power gen: 9019.000547667132\n",
      "real gen: 9019\n"
     ]
    },
    {
     "name": "stderr",
     "output_type": "stream",
     "text": [
      "The latest version of Julia in the `release` channel is 1.11.3+0.x64.w64.mingw32. You currently have `1.10.0+0.x64.w64.mingw32` installed. Run:\n",
      "\n",
      "  juliaup update\n",
      "\n",
      "in your terminal shell to install Julia 1.11.3+0.x64.w64.mingw32 and update the `release` channel to that version.\n"
     ]
    },
    {
     "name": "stdout",
     "output_type": "stream",
     "text": [
      "\n",
      "******************************************************************************\n",
      "This program contains Ipopt, a library for large-scale nonlinear optimization.\n",
      " Ipopt is released as open source code under the Eclipse Public License (EPL).\n",
      "         For more information visit https://github.com/coin-or/Ipopt\n",
      "******************************************************************************\n",
      "\n",
      "power demand: 28544.000001128377\n",
      "power gen: 9281.000567835483\n",
      "real gen: 9281\n"
     ]
    },
    {
     "name": "stderr",
     "output_type": "stream",
     "text": [
      "The latest version of Julia in the `release` channel is 1.11.3+0.x64.w64.mingw32. You currently have `1.10.0+0.x64.w64.mingw32` installed. Run:\n",
      "\n",
      "  juliaup update\n",
      "\n",
      "in your terminal shell to install Julia 1.11.3+0.x64.w64.mingw32 and update the `release` channel to that version.\n"
     ]
    },
    {
     "name": "stdout",
     "output_type": "stream",
     "text": [
      "\n",
      "******************************************************************************\n",
      "This program contains Ipopt, a library for large-scale nonlinear optimization.\n",
      " Ipopt is released as open source code under the Eclipse Public License (EPL).\n",
      "         For more information visit https://github.com/coin-or/Ipopt\n",
      "******************************************************************************\n",
      "\n",
      "power demand: 29298.99999660851\n",
      "power gen: 9832.00053190705\n",
      "real gen: 9832\n",
      "\n",
      "******************************************************************************\n",
      "This program contains Ipopt, a library for large-scale nonlinear optimization.\n",
      " Ipopt is released as open source code under the Eclipse Public License (EPL).\n",
      "         For more information visit https://github.com/coin-or/Ipopt\n",
      "******************************************************************************\n",
      "\n"
     ]
    },
    {
     "name": "stderr",
     "output_type": "stream",
     "text": [
      "The latest version of Julia in the `release` channel is 1.11.3+0.x64.w64.mingw32. You currently have `1.10.0+0.x64.w64.mingw32` installed. Run:\n",
      "\n",
      "  juliaup update\n",
      "\n",
      "in your terminal shell to install Julia 1.11.3+0.x64.w64.mingw32 and update the `release` channel to that version.\n"
     ]
    },
    {
     "name": "stdout",
     "output_type": "stream",
     "text": [
      "power demand: 30281.00000242114\n",
      "power gen: 10259.00055494788\n",
      "real gen: 10259\n"
     ]
    },
    {
     "name": "stderr",
     "output_type": "stream",
     "text": [
      "The latest version of Julia in the `release` channel is 1.11.3+0.x64.w64.mingw32. You currently have `1.10.0+0.x64.w64.mingw32` installed. Run:\n",
      "\n",
      "  juliaup update\n",
      "\n",
      "in your terminal shell to install Julia 1.11.3+0.x64.w64.mingw32 and update the `release` channel to that version.\n"
     ]
    },
    {
     "name": "stdout",
     "output_type": "stream",
     "text": [
      "\n",
      "******************************************************************************\n",
      "This program contains Ipopt, a library for large-scale nonlinear optimization.\n",
      " Ipopt is released as open source code under the Eclipse Public License (EPL).\n",
      "         For more information visit https://github.com/coin-or/Ipopt\n",
      "******************************************************************************\n",
      "\n",
      "power demand: 31089.000000107215\n",
      "power gen: 11520.000535818477\n",
      "real gen: 11520\n",
      "\n",
      "******************************************************************************\n",
      "This program contains Ipopt, a library for large-scale nonlinear optimization.\n",
      " Ipopt is released as open source code under the Eclipse Public License (EPL).\n",
      "         For more information visit https://github.com/coin-or/Ipopt\n",
      "******************************************************************************\n",
      "\n"
     ]
    },
    {
     "name": "stderr",
     "output_type": "stream",
     "text": [
      "The latest version of Julia in the `release` channel is 1.11.3+0.x64.w64.mingw32. You currently have `1.10.0+0.x64.w64.mingw32` installed. Run:\n",
      "\n",
      "  juliaup update\n",
      "\n",
      "in your terminal shell to install Julia 1.11.3+0.x64.w64.mingw32 and update the `release` channel to that version.\n"
     ]
    },
    {
     "name": "stdout",
     "output_type": "stream",
     "text": [
      "power demand: 31451.000000542517\n",
      "power gen: 13050.000440601649\n",
      "real gen: 13050\n",
      "\n",
      "******************************************************************************\n",
      "This program contains Ipopt, a library for large-scale nonlinear optimization.\n",
      " Ipopt is released as open source code under the Eclipse Public License (EPL).\n",
      "         For more information visit https://github.com/coin-or/Ipopt\n",
      "******************************************************************************\n",
      "\n"
     ]
    },
    {
     "name": "stderr",
     "output_type": "stream",
     "text": [
      "The latest version of Julia in the `release` channel is 1.11.3+0.x64.w64.mingw32. You currently have `1.10.0+0.x64.w64.mingw32` installed. Run:\n",
      "\n",
      "  juliaup update\n",
      "\n",
      "in your terminal shell to install Julia 1.11.3+0.x64.w64.mingw32 and update the `release` channel to that version.\n"
     ]
    },
    {
     "name": "stdout",
     "output_type": "stream",
     "text": [
      "power demand: 31372.000000497897\n",
      "power gen: 13581.000443049968\n",
      "real gen: 13581\n"
     ]
    },
    {
     "name": "stderr",
     "output_type": "stream",
     "text": [
      "The latest version of Julia in the `release` channel is 1.11.3+0.x64.w64.mingw32. You currently have `1.10.0+0.x64.w64.mingw32` installed. Run:\n",
      "\n",
      "  juliaup update\n",
      "\n",
      "in your terminal shell to install Julia 1.11.3+0.x64.w64.mingw32 and update the `release` channel to that version.\n"
     ]
    },
    {
     "name": "stdout",
     "output_type": "stream",
     "text": [
      "\n",
      "******************************************************************************\n",
      "This program contains Ipopt, a library for large-scale nonlinear optimization.\n",
      " Ipopt is released as open source code under the Eclipse Public License (EPL).\n",
      "         For more information visit https://github.com/coin-or/Ipopt\n",
      "******************************************************************************\n",
      "\n",
      "power demand: 31142.999999573167\n",
      "power gen: 13593.000443002902\n",
      "real gen: 13593\n"
     ]
    },
    {
     "name": "stderr",
     "output_type": "stream",
     "text": [
      "The latest version of Julia in the `release` channel is 1.11.3+0.x64.w64.mingw32. You currently have `1.10.0+0.x64.w64.mingw32` installed. Run:\n",
      "\n",
      "  juliaup update\n",
      "\n",
      "in your terminal shell to install Julia 1.11.3+0.x64.w64.mingw32 and update the `release` channel to that version.\n"
     ]
    },
    {
     "name": "stdout",
     "output_type": "stream",
     "text": [
      "\n",
      "******************************************************************************\n",
      "This program contains Ipopt, a library for large-scale nonlinear optimization.\n",
      " Ipopt is released as open source code under the Eclipse Public License (EPL).\n",
      "         For more information visit https://github.com/coin-or/Ipopt\n",
      "******************************************************************************\n",
      "\n",
      "power demand: 29451.000002133922\n",
      "power gen: 12729.000481922994\n",
      "real gen: 12729\n",
      "\n",
      "******************************************************************************\n",
      "This program contains Ipopt, a library for large-scale nonlinear optimization.\n",
      " Ipopt is released as open source code under the Eclipse Public License (EPL).\n",
      "         For more information visit https://github.com/coin-or/Ipopt\n",
      "******************************************************************************\n",
      "\n"
     ]
    },
    {
     "name": "stderr",
     "output_type": "stream",
     "text": [
      "The latest version of Julia in the `release` channel is 1.11.3+0.x64.w64.mingw32. You currently have `1.10.0+0.x64.w64.mingw32` installed. Run:\n",
      "\n",
      "  juliaup update\n",
      "\n",
      "in your terminal shell to install Julia 1.11.3+0.x64.w64.mingw32 and update the `release` channel to that version.\n"
     ]
    },
    {
     "name": "stdout",
     "output_type": "stream",
     "text": [
      "power demand: 26774.999999434815\n",
      "power gen: 11584.000497240722\n",
      "real gen: 11584\n"
     ]
    }
   ],
   "source": [
    "res = []\n",
    "emi_by_type = []\n",
    "pg_time_by_type = []\n",
    "eng = matlab.engine.start_matlab()\n",
    "h = 0\n",
    "num_fuel_type = 12\n",
    "counties = pd.read_csv(\"output_with_county_state.csv\").to_numpy()[:,2]\n",
    "for i in range(len(real_gen)):\n",
    "    #qd = np.concatenate((qd, np.zeros((1743,))))\n",
    "    r = eng.myFunc(real_gen[i])\n",
    "    m = eng.loadcase('CaliforniaTestSystem.m')\n",
    "    #power_d = np.array(m['bus'])[:,2]\n",
    "    #np.array(m['bus'])[:,2] = power_demand\n",
    "    #np.array(m['gen'])[:,1] = power_generation\n",
    "    #eng.savecase('CaliforniaTestSystem.m', m)\n",
    "    !julia run_opf.jl\n",
    "    f = open(\"pf_solution.json\")\n",
    "    sol = json.load(f)\n",
    "    # gen to bus\n",
    "    gen = [-1]*num_gen # idx: gen_idx, val: bus_id\n",
    "    gen_cost = [0]*num_gen\n",
    "    power_generation = [0]*num_gen\n",
    "    carbon_emission = [0]*num_gen\n",
    "    power_generation_by_type = [0]*num_fuel_type\n",
    "    emission_by_type = [0]*num_fuel_type\n",
    "    branch_power_to = [0]*num_branch\n",
    "    branch_power_from = [0]*num_branch\n",
    "    for line, val in sol['solution']['gen'].items():\n",
    "        if val['pg'] > 0.0:\n",
    "            gen[int(line)-1] = df[int(line)-1][2]-1\n",
    "            power_generation_by_type[fuel_type_to_caiso[df[int(line)-1][3]]] += val['pg']*100\n",
    "            carbon_emission[int(line)-1] = type_to_emission[df[int(line)-1][3]]\n",
    "            gen_by_fuel[df[int(line)-1][3]] += val['pg']*100\n",
    "            gen_cost[int(line)-1] = val['pg_cost']\n",
    "            power_generation[int(line)-1] = val['pg']*100\n",
    "            emission_by_type[fuel_type_to_caiso[df[int(line)-1][3]]] += val['pg']*100*type_to_emission[df[int(line)-1][3]]\n",
    "\n",
    "    for line, val in sol['solution']['branch'].items():\n",
    "        branch_power_from[int(line)-1] = round(val['pf']*100, 4)\n",
    "        branch_power_to[int(line)-1] = round(val['pt']*100, 4)\n",
    "        \n",
    "    pg_time_by_type.append(power_generation_by_type)\n",
    "    emi_by_type.append(emission_by_type)\n",
    "    f.close()\n",
    "    r = eng.myFuncNoModi(total_dem[i])\n",
    "    m2 = eng.loadcase('CaliforniaTestSystem2.m')\n",
    "    l_ori = np.array(m2['bus'])[:,2]\n",
    "    power_demand = np.array(m2['bus'])[:,2]\n",
    "    print(\"power demand: \" + str(sum(power_demand)))\n",
    "    print(\"power gen: \" + str(sum(power_generation)))\n",
    "    print(\"real gen: \" + str(real_gen[i]))\n",
    "    graph = collections.defaultdict(list) # from: (to, line)\n",
    "    graph_reverse = collections.defaultdict(list) # to: (from, line)\n",
    "    for i, (from_bus, to_bus) in enumerate(line_to_nodes):\n",
    "        graph[from_bus].append((to_bus, i))\n",
    "        graph_reverse[to_bus].append((from_bus, i))\n",
    "    for i, f in enumerate(branch_power_from):\n",
    "        if f < 0.0:\n",
    "            from_node, to_node = line_to_nodes[i]\n",
    "            graph[from_node].remove((to_node, i))\n",
    "            graph[to_node].append((from_node, i))\n",
    "            graph_reverse[to_node].remove((from_node, i))\n",
    "            graph_reverse[from_node].append((to_node, i))\n",
    "            branch_power_from[i] = -f\n",
    "    UNVISITED = -1\n",
    "    id = [0]\n",
    "    sccCount = [0]\n",
    "    ids = [0]*num_bus\n",
    "    low = [0]*num_bus\n",
    "    onStack = [False]*num_bus\n",
    "    stack = []\n",
    "    def findSccs():\n",
    "        for i in range(num_bus): ids[i] = UNVISITED\n",
    "        for i in range(num_bus):\n",
    "            if ids[i] == UNVISITED:\n",
    "                tarjan_dfs(i)\n",
    "        return low\n",
    "    def tarjan_dfs(at):\n",
    "            stack.append(at)\n",
    "            onStack[at] = True\n",
    "            ids[at] = id[0]\n",
    "            low[at] = id[0]\n",
    "            id[0] += 1\n",
    "            for nei, _ in graph[at]:\n",
    "                if ids[nei] == UNVISITED:\n",
    "                    tarjan_dfs(nei)\n",
    "                if onStack[nei]:\n",
    "                    low[at] = min(low[nei], low[at])\n",
    "            if ids[at] == low[at]:\n",
    "                while stack:\n",
    "                    node = stack.pop(-1)\n",
    "                    onStack[node] = False\n",
    "                    low[node] = ids[at]\n",
    "                    if node == at: break\n",
    "                sccCount[0] += 1\n",
    "    #print(pg_time_by_type)\n",
    "    sccs = collections.defaultdict(list)\n",
    "    seen = []\n",
    "    edges = findSccs()\n",
    "    for i, v in enumerate(edges):\n",
    "        if v in seen:\n",
    "            sccs[v].append(i)\n",
    "            sccs[v].append(seen.index(v))\n",
    "        seen.append(v)\n",
    "    cycles = set()\n",
    "    for k, v in sccs.items():\n",
    "        cycles.add(frozenset(v))\n",
    "    for c in cycles:\n",
    "        c = list(c)\n",
    "        total_demand = 0\n",
    "        total_gen = 0\n",
    "        for b in c:\n",
    "            total_demand += power_demand[b]\n",
    "            idx = gen.index(b) if b in gen else -1\n",
    "            if idx != -1:\n",
    "                total_gen += power_generation[idx]\n",
    "        power_demand[c[0]] = total_demand\n",
    "        idx = gen.index(b) if b in gen else -1\n",
    "        if idx != -1:\n",
    "            power_generation[gen.index(c[0])] = total_gen\n",
    "        graph = update_graph_DAG(graph, c, branch_power_from, graph_reverse)\n",
    "    graph_reverse = collections.defaultdict(list)\n",
    "    for f, v in graph.items():\n",
    "        for t, line in v:\n",
    "            graph_reverse[t].append((f, line))\n",
    "    # Since the power generation can be negative, we can convert them to power demand instead\n",
    "    for i, v in enumerate(power_generation):\n",
    "        if v < 0.0:\n",
    "            power_demand[gen[i]] -= v\n",
    "            power_generation[i] = 0.0\n",
    "    h += 1\n",
    "eng.quit()"
   ]
  },
  {
   "cell_type": "code",
   "execution_count": 10,
   "metadata": {},
   "outputs": [],
   "source": [
    "asu = pd.read_csv(\"data/201906/CAISO-supply-20190617.csv\").to_numpy()[1:,1:].T\n",
    "actual_supply = []\n",
    "for i in range(0,288):\n",
    "    if i%12 == 0:\n",
    "        actual_supply.append(list(asu[i,:]))"
   ]
  },
  {
   "cell_type": "code",
   "execution_count": 11,
   "metadata": {},
   "outputs": [],
   "source": [
    "def get_MAPE(t, m):\n",
    "    res = 0\n",
    "    for i in range(len(t)):\n",
    "        res += abs((t[i] - m[i])/t[i])\n",
    "    res /= len(t)\n",
    "    return res"
   ]
  },
  {
   "cell_type": "code",
   "execution_count": 12,
   "metadata": {},
   "outputs": [],
   "source": [
    "def get_wMAPE(t, m):\n",
    "    a = 0\n",
    "    b = 0\n",
    "    for i in range(len(t)):\n",
    "        a += abs((t[i] - m[i]))\n",
    "        b += abs(t[i])\n",
    "    return a/b"
   ]
  },
  {
   "cell_type": "code",
   "execution_count": 11,
   "metadata": {},
   "outputs": [],
   "source": [
    "actual_supply = list(map(list, zip(*actual_supply)))\n",
    "pg_time_by_type = list(map(list, zip(*pg_time_by_type)))"
   ]
  },
  {
   "cell_type": "code",
   "execution_count": 12,
   "metadata": {},
   "outputs": [],
   "source": [
    "imports_pg = [0]*24\n",
    "for i in range(24):\n",
    "    imports_pg[i] = actual_supply[0][i] + actual_supply[2][i] + actual_supply[3][i] + actual_supply[4][i] + actual_supply[5][i] + actual_supply[6][i] + actual_supply[9][i] + actual_supply[10][i] + actual_supply[11][i] - pg_time_by_type[0][i] - pg_time_by_type[3][i] - pg_time_by_type[4][i] - pg_time_by_type[5][i] - pg_time_by_type[6][i] - pg_time_by_type[9][i] - pg_time_by_type[10][i] - pg_time_by_type[11][i]"
   ]
  },
  {
   "cell_type": "code",
   "execution_count": 13,
   "metadata": {},
   "outputs": [
    {
     "data": {
      "image/png": "[encoded data removed]",
      "text/plain": [
       "<Figure size 1400x500 with 2 Axes>"
      ]
     },
     "metadata": {},
     "output_type": "display_data"
    }
   ],
   "source": [
    "fig, (ax1, ax2) = plt.subplots(1, 2, sharey=False, figsize=(14,5))\n",
    "x = [i for i in range(0, 24, 1)]\n",
    "ax1.set_xlabel('Time [h]', fontsize=14)\n",
    "ax1.set_ylabel('Power Generation [MWh]', fontsize=14)\n",
    "ax2.set_xlabel('Time [h]', fontsize=14)\n",
    "ax2.set_ylabel('Power Generation [MWh]', fontsize=14)\n",
    "ax1.plot(x, actual_supply[0], label='Natural Gas', color='red')\n",
    "ax1.plot(x, actual_supply[1], label='Large Hydro', color='blue')\n",
    "ax1.plot(x, actual_supply[2], label='Imports', color='brown')\n",
    "ax1.plot(x, actual_supply[3], label='Batteries', color='purple')\n",
    "ax1.plot(x, actual_supply[4], label='Nuclear', color='pink')\n",
    "ax1.plot(x, actual_supply[5], label='Coal', color='black')\n",
    "ax1.plot(x, actual_supply[6], label='Other', color='grey')\n",
    "ax1.plot(x, actual_supply[7], label='Solar', color='orange')\n",
    "ax1.plot(x, actual_supply[8], label='Wind', color='navy')\n",
    "ax1.plot(x, actual_supply[9], label='Geothermal', color='yellow')\n",
    "ax1.plot(x, actual_supply[10], label='Biomass', color='green')\n",
    "ax1.plot(x, actual_supply[11], label='Biogas', color='olive')\n",
    "ax1.plot(x, actual_supply[12], label='Small Hydro', color='cyan')\n",
    "#fig.text(0.5, 0.04, 'Time', ha='center', va='center', fontsize=16)\n",
    "#fig.text(0.06, 0.5, 'MWh', ha='center', va='center', rotation='vertical', fontsize=16)\n",
    "ax1.grid()\n",
    "ax1.set_xticks([i for i in range(0,24,1)])\n",
    "ax1.set_yticks([0,2000,4000,6000,8000,10000,12000])\n",
    "ax1.set_title(\"06/17/2019 Total power generation from CAISO data\")\n",
    "ax2.plot(x, pg_time_by_type[0], label='Natural Gas', color='red')\n",
    "ax2.plot(x, actual_supply[1], label='Large Hydro', color='blue')\n",
    "ax2.plot(x, imports_pg, label='Imports', color='brown')\n",
    "ax2.plot(x, actual_supply[3], label='Batteries', color='purple')\n",
    "ax2.plot(x, pg_time_by_type[4], label='Nuclear', color='pink')\n",
    "ax2.plot(x, pg_time_by_type[5], label='Coal', color='black')\n",
    "ax2.plot(x, pg_time_by_type[6], label='Other', color='grey')\n",
    "ax2.plot(x, actual_supply[7], label='Solar', color='orange')\n",
    "ax2.plot(x, actual_supply[8], label='Wind', color='navy')\n",
    "ax2.plot(x, pg_time_by_type[9], label='Geothermal', color='yellow')\n",
    "ax2.plot(x, actual_supply[10], label='Biomass', color='green')\n",
    "ax2.plot(x, actual_supply[11], label='Biogas', color='olive')\n",
    "ax2.plot(x, actual_supply[12], label='Small Hydro', color='cyan')\n",
    "ax2.set_xticks([i for i in range(0,24,1)])\n",
    "ax2.set_yticks([0,2000,4000,6000,8000,10000,12000])\n",
    "ax2.set_title(\"06/17/2019 Total power generation from our model\")\n",
    "ax2.legend(loc='center left', bbox_to_anchor=(1, 0.5))\n",
    "ax2.grid()\n",
    "#fig.tight_layout()"
   ]
  }
 ],
 "metadata": {
  "kernelspec": {
   "display_name": "Python 3",
   "language": "python",
   "name": "python3"
  },
  "language_info": {
   "codemirror_mode": {
    "name": "ipython",
    "version": 3
   },
   "file_extension": ".py",
   "mimetype": "text/x-python",
   "name": "python",
   "nbconvert_exporter": "python",
   "pygments_lexer": "ipython3",
   "version": "3.11.9"
  }
 },
 "nbformat": 4,
 "nbformat_minor": 2
}
